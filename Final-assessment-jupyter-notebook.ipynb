{
 "cells": [
  {
   "cell_type": "markdown",
   "id": "78873990",
   "metadata": {},
   "source": [
    "# Predicting HbA1c Levels in Hispanic Males\n",
    "This notebook builds a supervised regression model to predict HbA1c levels using demographic and health features. The model is trained specifically on Hispanic males."
   ]
  },
  {
   "cell_type": "code",
   "execution_count": null,
   "id": "737d2364",
   "metadata": {},
   "outputs": [],
   "source": [
    "!pip install kagglehub pandas scikit-learn matplotlib seaborn --quiet\n",
    "import kagglehub\n",
    "import pandas as pd\n",
    "import numpy as np\n",
    "import matplotlib.pyplot as plt\n",
    "import seaborn as sns\n",
    "from sklearn.model_selection import train_test_split\n",
    "from sklearn.linear_model import LinearRegression\n",
    "from sklearn.metrics import mean_squared_error\n"
   ]
  },
  {
   "cell_type": "code",
   "execution_count": null,
   "id": "d8bf8c63",
   "metadata": {},
   "outputs": [],
   "source": [
    "# Download dataset from KaggleHub\n",
    "path = kagglehub.dataset_download(\"marshalpatel3558/diabetes-prediction-dataset\")\n",
    "print(\"Path to dataset files:\", path)\n"
   ]
  },
  {
   "cell_type": "code",
   "execution_count": null,
   "id": "54b55c36",
   "metadata": {},
   "outputs": [],
   "source": [
    "# Load the CSV file (adjust the filename as needed)\n",
    "df = pd.read_csv(f\"{path}/diabetes_prediction_dataset.csv\")\n",
    "df.head()\n"
   ]
  },
  {
   "cell_type": "code",
   "execution_count": null,
   "id": "184e3222",
   "metadata": {},
   "outputs": [],
   "source": [
    "# Filter for Hispanic males only\n",
    "df = df[(df['gender'] == 'Male') & (df['ethnicity'].str.contains(\"Hispanic\", case=False, na=False))]\n",
    "df = df.dropna(subset=['HbA1c_level'])  # Ensure target is available\n",
    "df.head()\n"
   ]
  },
  {
   "cell_type": "code",
   "execution_count": null,
   "id": "11118d09",
   "metadata": {},
   "outputs": [],
   "source": [
    "# Select features and target\n",
    "features = ['age', 'bmi', 'physical_activity']\n",
    "X = df[features]\n",
    "y = df['HbA1c_level']\n",
    "\n",
    "# Split the dataset\n",
    "X_train, X_test, y_train, y_test = train_test_split(X, y, test_size=0.2, random_state=42)\n"
   ]
  },
  {
   "cell_type": "code",
   "execution_count": null,
   "id": "67e5200b",
   "metadata": {},
   "outputs": [],
   "source": [
    "# Train the model\n",
    "model = LinearRegression()\n",
    "model.fit(X_train, y_train)\n",
    "\n",
    "# Predict and evaluate\n",
    "y_pred = model.predict(X_test)\n",
    "mse = mean_squared_error(y_test, y_pred)\n",
    "print(f\"Mean Squared Error (MSE): {mse:.2f}\")\n"
   ]
  },
  {
   "cell_type": "code",
   "execution_count": null,
   "id": "1828e376",
   "metadata": {},
   "outputs": [],
   "source": [
    "# Plot predictions vs actual values\n",
    "plt.figure(figsize=(8, 6))\n",
    "plt.scatter(y_test, y_pred, alpha=0.6)\n",
    "plt.xlabel(\"Actual HbA1c Level\")\n",
    "plt.ylabel(\"Predicted HbA1c Level\")\n",
    "plt.title(\"Predicted vs Actual HbA1c for Hispanic Males\")\n",
    "plt.plot([y_test.min(), y_test.max()], [y_test.min(), y_test.max()], 'r--')\n",
    "plt.show()\n"
   ]
  },
  {
   "cell_type": "markdown",
   "id": "179118a3",
   "metadata": {},
   "source": [
    "## Reflection\n",
    "\n",
    "This notebook demonstrates a basic but effective approach to using supervised learning for predicting HbA1c levels among Hispanic males. It highlights:\n",
    "\n",
    "- Importance of filtering data to target a specific demographic\n",
    "- Use of simple linear regression for interpretability\n",
    "- Evaluation using MSE for quantitative model assessment\n",
    "\n",
    "This model can support early intervention efforts and better health outcomes for underserved communities.\n"
   ]
  }
 ],
 "metadata": {},
 "nbformat": 4,
 "nbformat_minor": 5
}
